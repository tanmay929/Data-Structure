{
  "nbformat": 4,
  "nbformat_minor": 0,
  "metadata": {
    "colab": {
      "provenance": []
    },
    "kernelspec": {
      "name": "python3",
      "display_name": "Python 3"
    },
    "language_info": {
      "name": "python"
    }
  },
  "cells": [
    {
      "cell_type": "code",
      "execution_count": null,
      "metadata": {
        "id": "b7K4DameLcNs"
      },
      "outputs": [],
      "source": []
    },
    {
      "cell_type": "markdown",
      "source": [
        "DATA STRUCTURE\n"
      ],
      "metadata": {
        "id": "QRFBe0N6Ldk0"
      }
    },
    {
      "cell_type": "markdown",
      "source": [
        "1.What are data structures, and why are they important?\n",
        " - Data structure is a way of organizing and storing the data it is importanat to accesed and manipulate the data.\n",
        "\n",
        "2.Explain the difference between mutable and immutable data types with examples.\n",
        " - Mutable means we can change the elements after they declared. Mutable data types are list,sets,dictionary\n",
        " immutable means that we cannot change the elements after they declared. Immutable data types are string.\n",
        "\n",
        "3.What are the main differences between lists and tuples in Python?\n",
        " - The main difference between the list and tuples are list is mutable and it is define between the square brakets and tuples are immutable and it is define between the paranthesis.\n",
        "\n",
        "4.Describe how dictionaries store data.\n",
        " - Dictionaries store the data in the form of key value pair.\n",
        "\n",
        "5.Why might you use a set instead of a list in Python?\n",
        " - We use set instead of a list in python because set are unordered collection of unique elements means there is no repeated elements occured in sets.\n",
        "\n",
        "6.What is a string in Python, and how is it different from a list?\n",
        " - String is a collection of characters and it is diffrent from list by it stores only homogenous data.\n",
        "\n",
        "7.How do tuples ensure data integrity in Python?\n",
        " - Tuples ensure data integrity in python due to their immutibility nature.\n",
        "\n",
        "8.What is a hash table, and how does it relate to dictionaries in Python?\n",
        " - A hash table allows for very fast lookup,insertion and deletion of data.\n",
        " hash table provides insights into how python dictionaries work and why they are so useful for task involving key value lookups.\n",
        "\n",
        "9. Can lists contain different data types in Python?\n",
        " - Yes lists can contain different data types in Python.\n",
        "\n",
        "10.Explain why strings are immutable in Python.\n",
        " - String is a sequence of characters which represent and manipulate textual data. Strings are immutable because to make data constant.\n",
        "\n",
        "11.What advantages do dictionaries offer over lists for certain tasks?\n",
        " - Advantages do dictionaries offer over lists for certain tasks are dictinaries offers fast lookup, flexible data storage, easy modification.\n",
        "\n",
        "12.Describe a scenario where using a tuple would be preferable over a list.\n",
        " - while representing any date we use tuple istead of list because tuples are immutable and we cannot change the elemnts after declaration.\n",
        "\n",
        "13.How do sets handle duplicate values in Python?\n",
        " - Sets inherently handle duplicate values by eliminating them.It takes only unique elements.\n",
        "\n",
        "14.How does the “in” keyword work differently for lists and dictionaries?\n",
        " - In lists in keyword checks for membership of an element within the list and for dictionaries it checks for the existence of a specific kry in the dictionary.\n",
        "\n",
        "15.Can you modify the elements of a tuple? Explain why or why not.\n",
        " - We cannot modify the elements of a tuple after declaration because tuples the immutable we cannot change the elements.\n",
        "\n",
        "16.What is a nested dictionary, and give an example of its use case?\n",
        " - A nested dictionary is a dictionary where the values themselves are also dictionaries. The example of its use case are representing employee data.\n",
        "\n",
        "17.Describe the time complexity of accessing elements in a dictionary.\n",
        " - The time complexity of accessing elements in a python dictionary is generally 0(1),which means its constant time.\n",
        "\n",
        "18.In what situations are lists preferred over dictionaries?\n",
        " - The situations where lists preferred over dictionaries are maintaining the order,accessing elements by index, storing homogeneous data.\n",
        "\n",
        "19.Why are dictionaries considered unordered, and how does that affect data retrieval?\n",
        " - Dictionaries are considered unordered because the order of elements within a dictionary is not guaranteed to be consistent.\n",
        " It affects the data retrieval by unpredictable iteration and inefficient for order dependent operations.\n",
        "\n",
        "20. Explain the difference between a list and a dictionary in terms of data retrieval.\n",
        " - The elements in a list are accessed using their index and in dictionary are accessed using their unique keys.\n"
      ],
      "metadata": {
        "id": "PgS4sWO8Limv"
      }
    },
    {
      "cell_type": "code",
      "source": [
        "#1.Write a code to create a string with your name and print it\n",
        "A = \"my name is Tanmay\"\n",
        "A"
      ],
      "metadata": {
        "colab": {
          "base_uri": "https://localhost:8080/",
          "height": 35
        },
        "id": "SHYyP-p3aZ2Y",
        "outputId": "4ddba90c-6a2d-4cb1-8884-c46f7b73f444"
      },
      "execution_count": 1,
      "outputs": [
        {
          "output_type": "execute_result",
          "data": {
            "text/plain": [
              "'my name is Tanmay'"
            ],
            "application/vnd.google.colaboratory.intrinsic+json": {
              "type": "string"
            }
          },
          "metadata": {},
          "execution_count": 1
        }
      ]
    },
    {
      "cell_type": "code",
      "source": [
        "#2.Write a code to find the length of the string \"Hello World\".\n",
        "b = \"Hello World\"\n",
        "len(b)"
      ],
      "metadata": {
        "colab": {
          "base_uri": "https://localhost:8080/"
        },
        "id": "cTgPU8ZOatJI",
        "outputId": "d927b654-5dc5-45f8-c748-76ca2ca6aa2f"
      },
      "execution_count": 2,
      "outputs": [
        {
          "output_type": "execute_result",
          "data": {
            "text/plain": [
              "11"
            ]
          },
          "metadata": {},
          "execution_count": 2
        }
      ]
    },
    {
      "cell_type": "code",
      "source": [
        "#3.Write a code to slice the first 3 characters from the string \"Python Programming\".\n",
        "string = \"Python Programming\"\n",
        "string[0:3]"
      ],
      "metadata": {
        "colab": {
          "base_uri": "https://localhost:8080/",
          "height": 35
        },
        "id": "eWbLAjA5bDUI",
        "outputId": "aca0575a-82c1-4862-8b0d-c97137036c74"
      },
      "execution_count": 4,
      "outputs": [
        {
          "output_type": "execute_result",
          "data": {
            "text/plain": [
              "'Pyt'"
            ],
            "application/vnd.google.colaboratory.intrinsic+json": {
              "type": "string"
            }
          },
          "metadata": {},
          "execution_count": 4
        }
      ]
    },
    {
      "cell_type": "code",
      "source": [
        "#4.Write a code to convert the string \"hello\" to uppercase\n",
        "a = \"hello\"\n",
        "a.upper()"
      ],
      "metadata": {
        "colab": {
          "base_uri": "https://localhost:8080/",
          "height": 35
        },
        "id": "FrkbJ9Z4beT3",
        "outputId": "5322d068-6085-4820-ecf0-80c619871658"
      },
      "execution_count": 6,
      "outputs": [
        {
          "output_type": "execute_result",
          "data": {
            "text/plain": [
              "'HELLO'"
            ],
            "application/vnd.google.colaboratory.intrinsic+json": {
              "type": "string"
            }
          },
          "metadata": {},
          "execution_count": 6
        }
      ]
    },
    {
      "cell_type": "code",
      "source": [
        "#5.Write a code to replace the word \"apple\" with \"orange\" in the string \"I like apple\".\n",
        "a = \"I like apple\"\n",
        "a.replace(\"apple\",\"orange\")"
      ],
      "metadata": {
        "colab": {
          "base_uri": "https://localhost:8080/",
          "height": 35
        },
        "id": "-nfyMWxpccbF",
        "outputId": "cc11572f-e9bf-41ec-e9b7-37866c7e64a3"
      },
      "execution_count": 7,
      "outputs": [
        {
          "output_type": "execute_result",
          "data": {
            "text/plain": [
              "'I like orange'"
            ],
            "application/vnd.google.colaboratory.intrinsic+json": {
              "type": "string"
            }
          },
          "metadata": {},
          "execution_count": 7
        }
      ]
    },
    {
      "cell_type": "code",
      "source": [
        "#6.Write a code to create a list with numbers 1 to 5 and print it.\n",
        "num = [1,2,3,4,5]\n",
        "num"
      ],
      "metadata": {
        "colab": {
          "base_uri": "https://localhost:8080/"
        },
        "id": "Si11aQsXdZC9",
        "outputId": "8fc5d85a-ec26-41ed-c775-248cedb906fe"
      },
      "execution_count": 8,
      "outputs": [
        {
          "output_type": "execute_result",
          "data": {
            "text/plain": [
              "[1, 2, 3, 4, 5]"
            ]
          },
          "metadata": {},
          "execution_count": 8
        }
      ]
    },
    {
      "cell_type": "code",
      "source": [
        "#7.Write a code to append the number 10 to the list [1, 2, 3, 4].\n",
        "a = [1,2,3,4]\n",
        "a.append(10)\n",
        "a\n"
      ],
      "metadata": {
        "colab": {
          "base_uri": "https://localhost:8080/"
        },
        "id": "XNW_GWh2drsQ",
        "outputId": "cb943452-1ddf-411d-ef63-10032b7a1819"
      },
      "execution_count": 10,
      "outputs": [
        {
          "output_type": "execute_result",
          "data": {
            "text/plain": [
              "[1, 2, 3, 4, 10]"
            ]
          },
          "metadata": {},
          "execution_count": 10
        }
      ]
    },
    {
      "cell_type": "code",
      "source": [
        "#8.Write a code to remove the number 3 from the list [1, 2, 3, 4, 5].\n",
        "a = [1,2,3,4,5]\n",
        "a.remove(3)\n",
        "a"
      ],
      "metadata": {
        "colab": {
          "base_uri": "https://localhost:8080/"
        },
        "id": "noDJIcf6eEQg",
        "outputId": "37e2f49b-afe9-46dc-983d-7020cede8e3e"
      },
      "execution_count": 11,
      "outputs": [
        {
          "output_type": "execute_result",
          "data": {
            "text/plain": [
              "[1, 2, 4, 5]"
            ]
          },
          "metadata": {},
          "execution_count": 11
        }
      ]
    },
    {
      "cell_type": "code",
      "source": [
        "#9.Write a code to access the second element in the list ['a', 'b', 'c', 'd'].\n",
        "list = ['a','b','c','d']\n",
        "list[1]"
      ],
      "metadata": {
        "colab": {
          "base_uri": "https://localhost:8080/",
          "height": 35
        },
        "id": "Us2z-UhWeYzW",
        "outputId": "d6c2b1a5-44b7-4e76-8eb1-2d3524d78ea3"
      },
      "execution_count": 12,
      "outputs": [
        {
          "output_type": "execute_result",
          "data": {
            "text/plain": [
              "'b'"
            ],
            "application/vnd.google.colaboratory.intrinsic+json": {
              "type": "string"
            }
          },
          "metadata": {},
          "execution_count": 12
        }
      ]
    },
    {
      "cell_type": "code",
      "source": [
        "#10.Write a code to reverse the list [10, 20, 30, 40, 50].\n",
        "a = [10,20,30,40,50]\n",
        "a.reverse()\n",
        "a"
      ],
      "metadata": {
        "colab": {
          "base_uri": "https://localhost:8080/"
        },
        "id": "vbSzff63euJQ",
        "outputId": "f70d5427-08f4-4774-ca64-a63fe190bde3"
      },
      "execution_count": 14,
      "outputs": [
        {
          "output_type": "execute_result",
          "data": {
            "text/plain": [
              "[50, 40, 30, 20, 10]"
            ]
          },
          "metadata": {},
          "execution_count": 14
        }
      ]
    },
    {
      "cell_type": "code",
      "source": [
        "#11. Write a code to create a tuple with the elements 10, 20, 30 and print it.\n",
        "t = (10,20,30)\n",
        "t"
      ],
      "metadata": {
        "colab": {
          "base_uri": "https://localhost:8080/"
        },
        "id": "TnzJiwmifS5d",
        "outputId": "5b608867-9a46-4c4a-ca32-8c828ba9e3cb"
      },
      "execution_count": 15,
      "outputs": [
        {
          "output_type": "execute_result",
          "data": {
            "text/plain": [
              "(10, 20, 30)"
            ]
          },
          "metadata": {},
          "execution_count": 15
        }
      ]
    },
    {
      "cell_type": "code",
      "source": [
        "#12. Write a code to access the first element of the tuple ('apple', 'banana', 'cherry').\n",
        "fruit = ('apple','banana','cherry')\n",
        "fruit[0]"
      ],
      "metadata": {
        "colab": {
          "base_uri": "https://localhost:8080/",
          "height": 35
        },
        "id": "MVtXwHl-fjCo",
        "outputId": "e8491b50-3e19-4d65-baf2-6cbe1f68d04c"
      },
      "execution_count": 16,
      "outputs": [
        {
          "output_type": "execute_result",
          "data": {
            "text/plain": [
              "'apple'"
            ],
            "application/vnd.google.colaboratory.intrinsic+json": {
              "type": "string"
            }
          },
          "metadata": {},
          "execution_count": 16
        }
      ]
    },
    {
      "cell_type": "code",
      "source": [
        "#13.Write a code to count how many times the number 2 appears in the tuple (1, 2, 3, 2, 4, 2).\n",
        "tuple = (1,2,3,2,4,2)\n",
        "len(tuple)\n"
      ],
      "metadata": {
        "colab": {
          "base_uri": "https://localhost:8080/"
        },
        "id": "xnBwF-2WgMVU",
        "outputId": "e8c8ee2c-3b9f-4911-c71b-1b766fe590f2"
      },
      "execution_count": 17,
      "outputs": [
        {
          "output_type": "execute_result",
          "data": {
            "text/plain": [
              "6"
            ]
          },
          "metadata": {},
          "execution_count": 17
        }
      ]
    },
    {
      "cell_type": "code",
      "source": [
        "#14. Write a code to find the index of the element \"cat\" in the tuple ('dog', 'cat', 'rabbit').\n",
        "y = ('dog','cat','rabbit')\n",
        "y.index('cat')"
      ],
      "metadata": {
        "id": "KMGXvaaqgwJO",
        "outputId": "404e1450-a751-4c90-d82b-c07134ed4b53",
        "colab": {
          "base_uri": "https://localhost:8080/"
        }
      },
      "execution_count": 19,
      "outputs": [
        {
          "output_type": "execute_result",
          "data": {
            "text/plain": [
              "1"
            ]
          },
          "metadata": {},
          "execution_count": 19
        }
      ]
    },
    {
      "cell_type": "code",
      "source": [
        "#15. Write a code to check if the element \"banana\" is in the tuple ('apple', 'orange', 'banana').\n",
        "tuple = ('apple','orange','banana')\n",
        "if 'banana' in tuple:\n",
        "  print(\"yes present\")"
      ],
      "metadata": {
        "id": "I9DcipbzhiQn",
        "outputId": "881c9227-6e45-4136-f6ad-cf6869643b59",
        "colab": {
          "base_uri": "https://localhost:8080/"
        }
      },
      "execution_count": 20,
      "outputs": [
        {
          "output_type": "stream",
          "name": "stdout",
          "text": [
            "yes present\n"
          ]
        }
      ]
    },
    {
      "cell_type": "code",
      "source": [
        "#16.Write a code to create a set with the elements 1, 2, 3, 4, 5 and print it.\n",
        "\n",
        "s = {1,2,3,4,5}\n",
        "s"
      ],
      "metadata": {
        "id": "N9mKBZbRiNQr",
        "outputId": "5efd7eb8-4bf1-48c4-f781-26f1ffa57a4b",
        "colab": {
          "base_uri": "https://localhost:8080/"
        }
      },
      "execution_count": 21,
      "outputs": [
        {
          "output_type": "execute_result",
          "data": {
            "text/plain": [
              "{1, 2, 3, 4, 5}"
            ]
          },
          "metadata": {},
          "execution_count": 21
        }
      ]
    },
    {
      "cell_type": "code",
      "source": [
        "#17. Write a code to add the element 6 to the set {1, 2, 3, 4}.\n",
        "a = {1,2,3,4}\n",
        "a.add(6)\n",
        "a"
      ],
      "metadata": {
        "id": "eFQp300WiZgW",
        "outputId": "945bdf9e-d27a-4b90-e688-fc8fbbc678e2",
        "colab": {
          "base_uri": "https://localhost:8080/"
        }
      },
      "execution_count": 23,
      "outputs": [
        {
          "output_type": "execute_result",
          "data": {
            "text/plain": [
              "{1, 2, 3, 4, 6}"
            ]
          },
          "metadata": {},
          "execution_count": 23
        }
      ]
    },
    {
      "cell_type": "code",
      "source": [
        "#18. Write a code to create a tuple with the elements 10, 20, 30 and print it.\n",
        "tuple = (10,20,30)\n",
        "tuple"
      ],
      "metadata": {
        "id": "ptZnqUKiiq-f",
        "outputId": "6305ac0d-dac4-421c-9147-b97a2fc5b6df",
        "colab": {
          "base_uri": "https://localhost:8080/"
        }
      },
      "execution_count": 24,
      "outputs": [
        {
          "output_type": "execute_result",
          "data": {
            "text/plain": [
              "(10, 20, 30)"
            ]
          },
          "metadata": {},
          "execution_count": 24
        }
      ]
    },
    {
      "cell_type": "code",
      "source": [
        "#19.Write a code to access the first element of the tuple ('apple', 'banana', 'cherry').\n",
        "a = ('apple','banana','cherry')\n",
        "a[0]"
      ],
      "metadata": {
        "id": "OvtmNSc1i7su",
        "outputId": "9ab89e46-835d-45a3-8dfd-25f6394284d4",
        "colab": {
          "base_uri": "https://localhost:8080/",
          "height": 35
        }
      },
      "execution_count": 25,
      "outputs": [
        {
          "output_type": "execute_result",
          "data": {
            "text/plain": [
              "'apple'"
            ],
            "application/vnd.google.colaboratory.intrinsic+json": {
              "type": "string"
            }
          },
          "metadata": {},
          "execution_count": 25
        }
      ]
    },
    {
      "cell_type": "code",
      "source": [
        "#20. Write a code to count how many times the number 2 appears in the tuple (1, 2, 3, 2, 4, 2).\n",
        "tuple = (1,2,3,2,4,2)\n",
        "tuple.count(2)"
      ],
      "metadata": {
        "id": "4NbJ2j8YjNxo",
        "outputId": "2c9b5447-d7ea-49e5-c4ce-dd8b6f128103",
        "colab": {
          "base_uri": "https://localhost:8080/"
        }
      },
      "execution_count": 26,
      "outputs": [
        {
          "output_type": "execute_result",
          "data": {
            "text/plain": [
              "3"
            ]
          },
          "metadata": {},
          "execution_count": 26
        }
      ]
    },
    {
      "cell_type": "code",
      "source": [
        "#21. Write a code to find the index of the element \"cat\" in the tuple ('dog', 'cat', 'rabbit').\n",
        "y = ('dog','cat','rabbit')\n",
        "y.index('cat')\n"
      ],
      "metadata": {
        "id": "PAkdgiggjn9V",
        "outputId": "4ce575af-d92f-4cde-aab9-e35ca7166fde",
        "colab": {
          "base_uri": "https://localhost:8080/"
        }
      },
      "execution_count": 27,
      "outputs": [
        {
          "output_type": "execute_result",
          "data": {
            "text/plain": [
              "1"
            ]
          },
          "metadata": {},
          "execution_count": 27
        }
      ]
    },
    {
      "cell_type": "code",
      "source": [
        "#22.. Write a code to check if the element \"banana\" is in the tuple ('apple', 'orange', 'banana').\n",
        "tuple = ('apple','orange','banana')\n",
        "if 'banana' in tuple:\n",
        "  print(\"yes present\")\n",
        "\n"
      ],
      "metadata": {
        "id": "YSsApSj_j3vl",
        "outputId": "d1be5844-71a7-4fa8-fb71-a8d326fa738e",
        "colab": {
          "base_uri": "https://localhost:8080/"
        }
      },
      "execution_count": 28,
      "outputs": [
        {
          "output_type": "stream",
          "name": "stdout",
          "text": [
            "yes present\n"
          ]
        }
      ]
    },
    {
      "cell_type": "code",
      "source": [
        "#23. Write a code to create a set with the elements 1, 2, 3, 4, 5 and print it.\n",
        "s = {1,2,3,4,5}\n",
        "s"
      ],
      "metadata": {
        "id": "FufNfOCHkCBW",
        "outputId": "c2b4e621-4bd8-42a0-9165-5b0fc898ceb6",
        "colab": {
          "base_uri": "https://localhost:8080/"
        }
      },
      "execution_count": 29,
      "outputs": [
        {
          "output_type": "execute_result",
          "data": {
            "text/plain": [
              "{1, 2, 3, 4, 5}"
            ]
          },
          "metadata": {},
          "execution_count": 29
        }
      ]
    },
    {
      "cell_type": "code",
      "source": [
        "#24. Write a code to add the element 6 to the set {1, 2, 3, 4}.\n",
        "a = {1,2,3,4}\n",
        "a.add(6)\n",
        "a"
      ],
      "metadata": {
        "id": "2zvGhWh6kKay",
        "outputId": "a9a7f163-1d8d-43cc-f5b4-6bc0eda15d52",
        "colab": {
          "base_uri": "https://localhost:8080/"
        }
      },
      "execution_count": 31,
      "outputs": [
        {
          "output_type": "execute_result",
          "data": {
            "text/plain": [
              "{1, 2, 3, 4, 6}"
            ]
          },
          "metadata": {},
          "execution_count": 31
        }
      ]
    },
    {
      "cell_type": "code",
      "source": [],
      "metadata": {
        "id": "ZvScrB-jkV6y"
      },
      "execution_count": null,
      "outputs": []
    }
  ]
}